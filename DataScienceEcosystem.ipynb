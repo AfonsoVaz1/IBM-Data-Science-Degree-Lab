{
 "cells": [
  {
   "cell_type": "markdown",
   "id": "57c61ce8-aeb6-406f-a636-09d989b29c39",
   "metadata": {},
   "source": [
    "# Data Science Tools and Ecosystem"
   ]
  },
  {
   "cell_type": "markdown",
   "id": "4ec9c6db-846c-469c-b32b-cd52730f6dcf",
   "metadata": {},
   "source": [
    "## Author\n",
    "Afonso"
   ]
  },
  {
   "cell_type": "markdown",
   "id": "18441d17-2aaa-4c44-83cf-a9041a3084b8",
   "metadata": {},
   "source": [
    "In this notebook, Data Science Tools and Ecosystem are summarized."
   ]
  },
  {
   "cell_type": "markdown",
   "id": "ad3a0399-44b8-4667-9b88-be32cd99ce8e",
   "metadata": {},
   "source": [
    "*Objectives*:\n",
    "\n",
    "- List Popular Languages for Data Science\n",
    "- List popular Libraries for Data Science\n",
    "- List Popular tools for DAta Science"
   ]
  },
  {
   "cell_type": "markdown",
   "id": "63dfbc78-5e88-435b-ada0-c1d04ee04827",
   "metadata": {},
   "source": [
    "Some of the popular languages that Data Scientists use are:\n",
    "1. Python\n",
    "2. SQL\n",
    "3. R"
   ]
  },
  {
   "cell_type": "markdown",
   "id": "576fb754-d28f-43ef-8577-2dff35b582fa",
   "metadata": {},
   "source": [
    "Some of the commonly used libraries used by Data Scientists include:\n",
    "- ggplot\n",
    "- pandas\n",
    "- NumPy"
   ]
  },
  {
   "cell_type": "markdown",
   "id": "5847ba5b-d119-45d1-b6d0-9fa2e15e629f",
   "metadata": {},
   "source": [
    "| Data Science Tools |\n",
    "|--------------------|\n",
    "| VS Code            |\n",
    "| RStudio            |\n",
    "| JupyterNotebook    |"
   ]
  },
  {
   "cell_type": "markdown",
   "id": "7b833f16-6ffa-4ea7-bf73-e1556d1d493b",
   "metadata": {},
   "source": [
    "### Below are a few wxamples of evaluating arithmetic expressions in Python"
   ]
  },
  {
   "cell_type": "code",
   "execution_count": 5,
   "id": "fbe4ce02-93b4-4580-b190-fcd0ba830340",
   "metadata": {},
   "outputs": [
    {
     "name": "stdout",
     "output_type": "stream",
     "text": [
      "17\n"
     ]
    }
   ],
   "source": [
    "# This is a simple arithmetic expression to multiply then add integers\n",
    "x = (3*4)+5\n",
    "print(x)"
   ]
  },
  {
   "cell_type": "code",
   "execution_count": 8,
   "id": "c2c9ab1c-5883-49b5-98fd-dcb590ae1934",
   "metadata": {},
   "outputs": [
    {
     "name": "stdout",
     "output_type": "stream",
     "text": [
      "3\n"
     ]
    }
   ],
   "source": [
    "# This will convert 200 minutes to hours by diving by 60\n",
    "minutes = 200\n",
    "conv_to_hour = minutes/60\n",
    "print(round(conv_to_hour))"
   ]
  }
 ],
 "metadata": {
  "kernelspec": {
   "display_name": "Python [conda env:base] *",
   "language": "python",
   "name": "conda-base-py"
  },
  "language_info": {
   "codemirror_mode": {
    "name": "ipython",
    "version": 3
   },
   "file_extension": ".py",
   "mimetype": "text/x-python",
   "name": "python",
   "nbconvert_exporter": "python",
   "pygments_lexer": "ipython3",
   "version": "3.13.5"
  }
 },
 "nbformat": 4,
 "nbformat_minor": 5
}
